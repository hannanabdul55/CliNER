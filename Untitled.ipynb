{
 "cells": [
  {
   "cell_type": "code",
   "execution_count": 2,
   "metadata": {},
   "outputs": [],
   "source": [
    "import ccy\n",
    "import xml.etree.ElementTree as ET\n"
   ]
  },
  {
   "cell_type": "code",
   "execution_count": 49,
   "metadata": {},
   "outputs": [],
   "source": [
    "e = ET.parse('arrays.xml')"
   ]
  },
  {
   "cell_type": "code",
   "execution_count": 53,
   "metadata": {},
   "outputs": [],
   "source": [
    "l =list(e.getroot().getiterator())\n",
    "l = list(map(lambda x: x.text, l[1:-1]))\n",
    "l = list(filter(lambda x: ccy.currency(x) is not None, l))"
   ]
  },
  {
   "cell_type": "code",
   "execution_count": 54,
   "metadata": {},
   "outputs": [],
   "source": [
    "\n",
    "cnts =  [ccy.currency(i) for i in l]"
   ]
  },
  {
   "cell_type": "code",
   "execution_count": 56,
   "metadata": {},
   "outputs": [
    {
     "name": "stdout",
     "output_type": "stream",
     "text": [
      "AED United Arab Emirates Dirham\n",
      "ARS Argentine Peso\n",
      "AUD Australian Dollar\n",
      "BGN Bulgarian Lev\n",
      "BMD Bermudian Dollar\n",
      "BRL Brazilian Real\n",
      "CAD Canadian Dollar\n",
      "CHF Swiss Franc\n",
      "CLP Chilean Peso\n",
      "CNY Chinese Renminbi\n",
      "COP Colombian Peso\n",
      "CZK Czech Koruna\n",
      "DKK Danish Krona\n",
      "EGP Egyptian Pound\n",
      "EUR Euro\n",
      "GBP British Pound\n",
      "HKD Hong Kong Dollar\n",
      "HRK Croatian kuna\n",
      "HUF Hungarian Forint\n",
      "IDR Indonesian Rupiah\n",
      "ILS Israeli Shekel\n",
      "INR Indian Rupee\n",
      "JMD Jamaican Dollar\n",
      "JPY Japanese Yen\n",
      "KRW South Korean won\n",
      "KZT Tenge\n",
      "MXN Mexican Peso\n",
      "MYR Malaysian Ringgit\n",
      "NGN Nigerian Naira\n",
      "NOK Norwegian Krona\n",
      "NZD New-Zealand Dollar\n",
      "PEN Peruvian New Sol\n",
      "PHP Philippines Peso\n",
      "PLN Polish Zloty\n",
      "QAR Qatari Riyal\n",
      "RON Romanian Leu\n",
      "RUB Russian Ruble\n",
      "SAR Saudi Riyal\n",
      "SEK Swedish Krona\n",
      "SGD Singapore Dollar\n",
      "THB Thai Baht\n",
      "TRY Turkish Lira\n",
      "TTD Trinidad and Tobago Dollar\n",
      "TWD Taiwan Dollar\n",
      "USD US Dollar\n",
      "VND Vietnamese Dong\n",
      "ZAR South African Rand\n"
     ]
    }
   ],
   "source": [
    "for c in cnts:\n",
    "    print(c.code, c.name)"
   ]
  },
  {
   "cell_type": "code",
   "execution_count": 58,
   "metadata": {},
   "outputs": [
    {
     "name": "stdout",
     "output_type": "stream",
     "text": [
      "<item>AED</item>\n",
      "<item>ARS</item>\n",
      "<item>AUD</item>\n",
      "<item>BGN</item>\n",
      "<item>BMD</item>\n",
      "<item>BRL</item>\n",
      "<item>CAD</item>\n",
      "<item>CHF</item>\n",
      "<item>CLP</item>\n",
      "<item>CNY</item>\n",
      "<item>COP</item>\n",
      "<item>CZK</item>\n",
      "<item>DKK</item>\n",
      "<item>EGP</item>\n",
      "<item>EUR</item>\n",
      "<item>GBP</item>\n",
      "<item>HKD</item>\n",
      "<item>HRK</item>\n",
      "<item>HUF</item>\n",
      "<item>IDR</item>\n",
      "<item>ILS</item>\n",
      "<item>INR</item>\n",
      "<item>JMD</item>\n",
      "<item>JPY</item>\n",
      "<item>KRW</item>\n",
      "<item>KZT</item>\n",
      "<item>MXN</item>\n",
      "<item>MYR</item>\n",
      "<item>NGN</item>\n",
      "<item>NOK</item>\n",
      "<item>NZD</item>\n",
      "<item>PEN</item>\n",
      "<item>PHP</item>\n",
      "<item>PLN</item>\n",
      "<item>QAR</item>\n",
      "<item>RON</item>\n",
      "<item>RUB</item>\n",
      "<item>SAR</item>\n",
      "<item>SEK</item>\n",
      "<item>SGD</item>\n",
      "<item>THB</item>\n",
      "<item>TRY</item>\n",
      "<item>TTD</item>\n",
      "<item>TWD</item>\n",
      "<item>USD</item>\n",
      "<item>VND</item>\n",
      "<item>ZAR</item>\n",
      "\n",
      "\n",
      "\n",
      "\n",
      "\n",
      "\n",
      "<item>AED - United Arab Emirates Dirham</item>\n",
      "<item>ARS - Argentine Peso</item>\n",
      "<item>AUD - Australian Dollar</item>\n",
      "<item>BGN - Bulgarian Lev</item>\n",
      "<item>BMD - Bermudian Dollar</item>\n",
      "<item>BRL - Brazilian Real</item>\n",
      "<item>CAD - Canadian Dollar</item>\n",
      "<item>CHF - Swiss Franc</item>\n",
      "<item>CLP - Chilean Peso</item>\n",
      "<item>CNY - Chinese Renminbi</item>\n",
      "<item>COP - Colombian Peso</item>\n",
      "<item>CZK - Czech Koruna</item>\n",
      "<item>DKK - Danish Krona</item>\n",
      "<item>EGP - Egyptian Pound</item>\n",
      "<item>EUR - Euro</item>\n",
      "<item>GBP - British Pound</item>\n",
      "<item>HKD - Hong Kong Dollar</item>\n",
      "<item>HRK - Croatian kuna</item>\n",
      "<item>HUF - Hungarian Forint</item>\n",
      "<item>IDR - Indonesian Rupiah</item>\n",
      "<item>ILS - Israeli Shekel</item>\n",
      "<item>INR - Indian Rupee</item>\n",
      "<item>JMD - Jamaican Dollar</item>\n",
      "<item>JPY - Japanese Yen</item>\n",
      "<item>KRW - South Korean won</item>\n",
      "<item>KZT - Tenge</item>\n",
      "<item>MXN - Mexican Peso</item>\n",
      "<item>MYR - Malaysian Ringgit</item>\n",
      "<item>NGN - Nigerian Naira</item>\n",
      "<item>NOK - Norwegian Krona</item>\n",
      "<item>NZD - New-Zealand Dollar</item>\n",
      "<item>PEN - Peruvian New Sol</item>\n",
      "<item>PHP - Philippines Peso</item>\n",
      "<item>PLN - Polish Zloty</item>\n",
      "<item>QAR - Qatari Riyal</item>\n",
      "<item>RON - Romanian Leu</item>\n",
      "<item>RUB - Russian Ruble</item>\n",
      "<item>SAR - Saudi Riyal</item>\n",
      "<item>SEK - Swedish Krona</item>\n",
      "<item>SGD - Singapore Dollar</item>\n",
      "<item>THB - Thai Baht</item>\n",
      "<item>TRY - Turkish Lira</item>\n",
      "<item>TTD - Trinidad and Tobago Dollar</item>\n",
      "<item>TWD - Taiwan Dollar</item>\n",
      "<item>USD - US Dollar</item>\n",
      "<item>VND - Vietnamese Dong</item>\n",
      "<item>ZAR - South African Rand</item>\n"
     ]
    }
   ],
   "source": [
    "for c in cnts:\n",
    "    print('<item>%s</item>'%(c.code))\n",
    "print('\\n\\n\\n\\n\\n')\n",
    "for c in cnts:\n",
    "    print('<item>%s - %s</item>'%(c.code,c.name))"
   ]
  },
  {
   "cell_type": "code",
   "execution_count": null,
   "metadata": {},
   "outputs": [],
   "source": []
  }
 ],
 "metadata": {
  "kernelspec": {
   "display_name": "Python 3",
   "language": "python",
   "name": "python3"
  },
  "language_info": {
   "codemirror_mode": {
    "name": "ipython",
    "version": 3
   },
   "file_extension": ".py",
   "mimetype": "text/x-python",
   "name": "python",
   "nbconvert_exporter": "python",
   "pygments_lexer": "ipython3",
   "version": "3.7.4"
  }
 },
 "nbformat": 4,
 "nbformat_minor": 2
}
