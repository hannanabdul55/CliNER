{
 "cells": [
  {
   "cell_type": "code",
   "execution_count": 1,
   "metadata": {},
   "outputs": [
    {
     "name": "stdout",
     "output_type": "stream",
     "text": [
      "WARNING:tensorflow:\n",
      "The TensorFlow contrib module will not be included in TensorFlow 2.0.\n",
      "For more information, please see:\n",
      "  * https://github.com/tensorflow/community/blob/master/rfcs/20180907-contrib-sunset.md\n",
      "  * https://github.com/tensorflow/addons\n",
      "  * https://github.com/tensorflow/io (for I/O related ops)\n",
      "If you depend on functionality not listed there, please file an issue.\n",
      "\n"
     ]
    }
   ],
   "source": [
    "from train import *\n",
    "from notes.documents import Document\n",
    "import glob"
   ]
  },
  {
   "cell_type": "code",
   "execution_count": 2,
   "metadata": {},
   "outputs": [],
   "source": [
    "cons = sorted(glob.glob('../data/final/con/*.con'))\n",
    "txts = sorted(glob.glob('../data/final/txt/*.txt'))\n",
    "docs = []\n",
    "for c,t in zip(cons, txts):\n",
    "#     print(c,t)\n",
    "    docs.append(Document(t,c))"
   ]
  },
  {
   "cell_type": "code",
   "execution_count": 4,
   "metadata": {},
   "outputs": [],
   "source": [
    "model = ClinerModel(True)"
   ]
  },
  {
   "cell_type": "code",
   "execution_count": 15,
   "metadata": {},
   "outputs": [
    {
     "name": "stdout",
     "output_type": "stream",
     "text": [
      "File:  ../data/final/txt/018636330_DH.txt\n",
      "[['__num__', 'dh'], ['__num__'], ['__num__'], ['__num__'], ['__num__', '__num__', 'am'], ['discharge', 'summary'], ['signed'], ['dis'], ['report', 'status', ':'], ['signed'], ['discharge', 'summary'], ['name', ':'], ['kote', ',', 'oa'], ['unit', 'number', ':'], ['__num__'], ['admission', 'date', ':'], ['__num__'], ['discharge', 'date', ':'], ['__num__'], ['principal', 'diagnosis', ':'], ['__num__', 'disc', 'herniation', 'with', 'cord', 'compression', 'and', 'myelopathy', '.'], ['principal', 'procedure', ':'], ['microscopic', 'anterior', 'cervical', 'diskectomy', 'at', '__num__', 'and', 'fusion', '.'], ['history', 'of', 'present', 'illness', ':'], ['the', 'patient', 'is', 'a', '__num__', 'female', 'with', 'a', 'three-year', 'history', 'of', 'bilateral', 'hand', 'numbness', 'and', 'occasional', 'weakness', '.'], ['within', 'the', 'past', 'year', ',', 'these', 'symptoms', 'have', 'progressively', 'gotten', 'worse', ',', 'to', 'encompass', 'also', 'her', 'feet', '.'], ['she', 'had', 'a', 'workup', 'by', 'her', 'neurologist', 'and', 'an', 'mri', 'revealed', 'a', '__num__', 'disc', 'herniation', 'with', 'cord', 'compression', 'and', 'a', '__num__', 'signal', 'change', 'at', 'that', 'level', '.'], ['past', 'medical', 'history', ':'], ['significant', 'for', 'hypertension', ',', 'hyperlipidemia', '.'], ['medications', 'on', 'admission', ':'], ['lipitor', ',', 'flexeril', ',', 'hydrochlorothiazide', 'and', 'norvasc', '.'], ['allergies', ':'], ['she', 'has', 'no', 'known', 'drug', 'allergy', '.'], ['social', 'history', ':'], ['she', 'smokes', 'one', 'pack', 'per', 'day', '__num__', 'years', '.'], ['she', 'occasionally', 'drinks', 'alcohol', '.'], ['physical', 'examination', ':'], ['she', 'had', '__num__', 'strength', 'in', 'bilateral', 'upper', 'and', 'lower', 'extremities', '.'], ['she', 'had', 'a', 'hoffman', '&apos;s', 'sign', 'greater', 'on', 'the', 'right', 'than', 'the', 'left', 'and', 'she', 'had', '__num__', 'beats', 'of', 'clonus', 'in', 'the', 'right', 'foot', 'and', '__num__', 'beats', 'in', 'the', 'left', 'foot', '.'], ['she', 'had', 'hyperreflexia', 'in', 'both', 'the', 'bilateral', 'upper', 'and', 'lower', 'extremities', '.'], ['hospital', 'course', ':'], ['the', 'patient', 'tolerated', 'a', '__num__', 'acdf', 'by', 'dr.', 'miezetri', 'gach', 'quite', 'well', '.'], ['she', 'had', 'a', 'postoperative', 'ct', 'scan', 'that', 'revealed', 'partial', 'decompression', 'of', 'the', 'spinal', 'canal', 'and', 'good', 'placement', 'of', 'her', 'hardware', '.'], ['immediately', 'postop', ',', 'her', 'exam', 'only', 'improved', 'slightly', 'in', 'her', 'hyperreflexia', '.'], ['she', 'was', 'ambulating', 'by', 'postoperative', 'day', 'number', 'two', '.'], ['she', 'tolerated', 'a', 'regular', 'diet', '.'], ['her', 'pain', 'was', 'under', 'good', 'control', 'with', 'po', 'pain', 'medications', 'and', 'she', 'was', 'deemed', 'suitable', 'for', 'discharge', '.'], ['discharge', 'orders', ':'], ['the', 'patient', 'was', 'asked', 'to', 'call', 'dr.', 'miezetri', 'gach', '&apos;s', 'office', 'for', 'a', 'follow-up', 'appointment', 'and', 'wound', 'check', '.'], ['she', 'is', 'asked', 'to', 'call', 'with', 'any', 'fevers', ',', 'chills', ',', 'increasing', 'weakness', 'or', 'numbness', 'or', 'any', 'bowel', 'and', 'bladder', 'disruption', '.'], ['discharge', 'medications', ':'], ['she', 'was', 'discharged', 'on', 'the', 'following', 'medications', '.'], ['__num__', 'colace', ',', '__num__', 'mg', 'po', 'bid', '.'], ['__num__', 'zantac', ',', '__num__', 'mg', 'po', 'bid', '.'], ['__num__', 'percocet', ',', '__num__', ',', '__num__', 'tabs', 'po', '__num__', 'prn', 'pain', '.'], ['__num__', 'lipitor', ',', '__num__', 'mg', 'po', 'daily', '.'], ['__num__', 'hydrochlorothiazide', ',', '__num__', 'mg', 'po', 'daily', '.'], ['__num__', 'norvasc', ',', '__num__', 'mg', 'po', 'daily', '.'], ['lalind', 'kote', ',', 'm.d.'], ['dictating', 'for', ':'], ['electronically', 'signed', 'miezetri', 'nimiry', 'pop', ',', 'm.d.', '__num__', '__num__'], ['_____________________________', 'miezetri', 'nimiry', 'pop', ',', 'm.d.'], ['tr', ':'], ['qg'], ['dd', ':'], ['__num__'], ['td', ':'], ['__num__', '__num__', 'a', '__num__'], ['cc', ':'], ['miezetri', 'nimiry', 'pop', ',', 'm.d.']] \n",
      "\n",
      " [['O', 'O'], ['O'], ['O'], ['O'], ['O', 'O', 'O'], ['O', 'O'], ['O'], ['O'], ['O', 'O', 'O'], ['O'], ['O', 'O'], ['O', 'O'], ['O', 'O', 'O'], ['O', 'O', 'O'], ['O'], ['O', 'O', 'O'], ['O'], ['O', 'O', 'O'], ['O'], ['O', 'O', 'O'], ['B-problem', 'I-problem', 'I-problem', 'O', 'B-problem', 'I-problem', 'O', 'B-problem', 'O'], ['O', 'O', 'O'], ['B-treatment', 'I-treatment', 'I-treatment', 'I-treatment', 'I-treatment', 'I-treatment', 'O', 'B-treatment', 'O'], ['O', 'O', 'O', 'O', 'O'], ['O', 'O', 'O', 'O', 'O', 'O', 'O', 'O', 'O', 'O', 'O', 'B-problem', 'I-problem', 'I-problem', 'O', 'B-problem', 'I-problem', 'O'], ['O', 'O', 'O', 'O', 'O', 'B-problem', 'I-problem', 'O', 'O', 'O', 'O', 'O', 'O', 'O', 'O', 'O', 'O', 'O'], ['O', 'O', 'B-test', 'I-test', 'O', 'O', 'O', 'O', 'B-test', 'I-test', 'O', 'B-problem', 'I-problem', 'I-problem', 'I-problem', 'O', 'B-problem', 'I-problem', 'O', 'B-problem', 'I-problem', 'I-problem', 'I-problem', 'O', 'O', 'O', 'O'], ['O', 'O', 'O', 'O'], ['O', 'O', 'B-problem', 'O', 'B-problem', 'O'], ['O', 'O', 'O', 'O'], ['B-treatment', 'O', 'B-treatment', 'O', 'B-treatment', 'O', 'B-treatment', 'O'], ['O', 'O'], ['O', 'O', 'O', 'B-problem', 'I-problem', 'I-problem', 'O'], ['O', 'O', 'O'], ['O', 'O', 'O', 'O', 'O', 'O', 'O', 'O', 'O'], ['O', 'O', 'O', 'O', 'O'], ['O', 'O', 'O'], ['O', 'O', 'O', 'O', 'O', 'O', 'O', 'O', 'O', 'O', 'O'], ['O', 'O', 'B-test', 'I-test', 'I-test', 'I-test', 'O', 'O', 'O', 'O', 'O', 'O', 'O', 'O', 'O', 'O', 'B-problem', 'I-problem', 'I-problem', 'I-problem', 'O', 'O', 'O', 'O', 'O', 'B-problem', 'I-problem', 'I-problem', 'I-problem', 'I-problem', 'I-problem', 'O'], ['O', 'O', 'B-problem', 'O', 'O', 'O', 'O', 'O', 'O', 'O', 'O', 'O'], ['O', 'O', 'O'], ['O', 'O', 'O', 'B-treatment', 'I-treatment', 'I-treatment', 'O', 'O', 'O', 'O', 'O', 'O', 'O'], ['O', 'O', 'B-test', 'I-test', 'I-test', 'I-test', 'O', 'O', 'B-problem', 'I-problem', 'I-problem', 'I-problem', 'I-problem', 'I-problem', 'O', 'O', 'O', 'O', 'B-treatment', 'I-treatment', 'O'], ['O', 'O', 'O', 'B-test', 'I-test', 'O', 'O', 'O', 'O', 'B-problem', 'I-problem', 'O'], ['O', 'O', 'O', 'O', 'O', 'O', 'O', 'O', 'O'], ['O', 'O', 'O', 'O', 'O', 'O'], ['B-problem', 'I-problem', 'O', 'O', 'O', 'O', 'O', 'B-treatment', 'I-treatment', 'I-treatment', 'O', 'O', 'O', 'O', 'O', 'O', 'O', 'O'], ['O', 'O', 'O'], ['O', 'O', 'O', 'O', 'O', 'O', 'O', 'O', 'O', 'O', 'O', 'O', 'O', 'O', 'O', 'O', 'B-test', 'I-test', 'O'], ['O', 'O', 'O', 'O', 'O', 'O', 'O', 'B-problem', 'O', 'B-problem', 'O', 'B-problem', 'I-problem', 'O', 'B-problem', 'O', 'O', 'B-problem', 'I-problem', 'I-problem', 'I-problem', 'O'], ['O', 'O', 'O'], ['O', 'O', 'O', 'O', 'O', 'O', 'O', 'O'], ['O', 'B-treatment', 'O', 'O', 'O', 'O', 'O', 'O'], ['O', 'B-treatment', 'O', 'O', 'O', 'O', 'O', 'O'], ['O', 'B-treatment', 'O', 'O', 'O', 'O', 'O', 'O', 'O', 'O', 'B-problem', 'O'], ['O', 'B-treatment', 'O', 'O', 'O', 'O', 'O', 'O'], ['O', 'B-treatment', 'O', 'O', 'O', 'O', 'O', 'O'], ['O', 'B-treatment', 'O', 'O', 'O', 'O', 'O', 'O'], ['O', 'O', 'O', 'O'], ['O', 'O', 'O'], ['O', 'O', 'O', 'O', 'O', 'O', 'O', 'O', 'O'], ['O', 'O', 'O', 'O', 'O', 'O'], ['O', 'O'], ['O'], ['O', 'O'], ['O'], ['O', 'O'], ['O', 'O', 'O', 'O'], ['O', 'O'], ['O', 'O', 'O', 'O', 'O']]\n"
     ]
    }
   ],
   "source": [
    "print('File: ', docs[0]._filename)\n",
    "# for\n",
    "X, y  = \n",
    "for doc in docs:\n",
    "    "
   ]
  },
  {
   "cell_type": "raw",
   "metadata": {},
   "source": []
  }
 ],
 "metadata": {
  "kernelspec": {
   "display_name": "Python 3",
   "language": "python",
   "name": "python3"
  },
  "language_info": {
   "codemirror_mode": {
    "name": "ipython",
    "version": 3
   },
   "file_extension": ".py",
   "mimetype": "text/x-python",
   "name": "python",
   "nbconvert_exporter": "python",
   "pygments_lexer": "ipython3",
   "version": "3.7.4"
  }
 },
 "nbformat": 4,
 "nbformat_minor": 2
}
